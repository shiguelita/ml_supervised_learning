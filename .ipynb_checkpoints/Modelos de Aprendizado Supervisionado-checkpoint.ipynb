{
 "cells": [
  {
   "cell_type": "markdown",
   "metadata": {},
   "source": [
    "## Um resumo sobre Modelos de Aprendizado Supervisionado"
   ]
  },
  {
   "cell_type": "markdown",
   "metadata": {},
   "source": [
    "Aprendizado supervisionado é uma das tarefas de Machine Learninig que baseados em dados históricos, com entradas e saídas desejadas, o algoritimo é treinado para conseguir mapear novos resultados.\n",
    "\n",
    "A seguir está um breve estudo sobre os alguns destes modelos, sugeridos do Nanodegree in Machine Learning Engineer da Udacity."
   ]
  },
  {
   "cell_type": "markdown",
   "metadata": {},
   "source": [
    "### Naive Bayes\n",
    "\n",
    "#### O que é?\n",
    "É um aprendizado supervisionado com base em um dado histórico, é feito um treinamento do algorítmo, divindo seu dado histórico em teste e treinamento, que serve para prever com base em novos dados. O algoritmo torna-se evolutivo, aprendendo cada vez que há inserção de novos dados.Contudo, por ser ingênuo ele pode ter falsos positivos.\n",
    "\n",
    "**Teorema de Bayes**: probabilidade de um evento ocorrer condicionado por outro.\n",
    "*Exemplo*: Se *A* acontecer a probabilidade de *B* acontecer é *XX%*.\n",
    "\n",
    "**Naive**: entende que todas as ocorrências são independentes, o que pode gerar falsos positivos.\n",
    "\n",
    "Existem 3 tipos de classficadores de Naives Bayes:\n",
    "* **Bernoulli Naive Bayes**: assume que os features são binários, normalmente representados por 0 sendo negativo e 1 positivo.\n",
    "* **Multinomial Naive Bayes**: usado com os features são discretos, como palavras ou classificações de 1 a 5. \n",
    "* **Gaussian Naive Bayes**: usado quando os features são contínuos e há a suposição da distribuição normal. \n",
    "\n",
    "\n",
    "* **Onde pode ser usado?**\n",
    "    * Filtro de SPAM\n",
    "    * Análise de Sentimento\n",
    "    * Análise de perfil: em uma análise de perfil de emprestímo,  verifica se um usuário é um bom pagador, se paga assiduamente, entre outras variáveis, para concluir se é rentável o emprestímo para tal usuário\n",
    "    * Mineração de dados: Base com vários textos para identificar estilo literário ou autor, baseado no histórico, como estrutura do texto, linguagem, palavras usadas\n",
    "    * Existe um sistema que apoia decisões média a respeito de doenças cardiológicas, o [Heart Disease Prediction System](https://pdfs.semanticscholar.org/d32e/e90a5de89093a4fc95f43e0409cb91414726.pdf)(Sistema de Previsão de Doenças Cardíacas). Ele foi desenvolvido usando como modelo princial o **Naive Bayes**. O modelo consegue responder a consultas complexas para diagnosticar doenças cardíacas e, assim, ajudar   profissionais de saúde tomarem decisões clínicas inteligentes que os sistemas tradicionais de apoio à decisão não podem\n",
    "    * O modelo de Gaussian Naives Bayes foi utilizado para predição de inibição de atividade protéica por pequenas moléculas de absorção, distribuição, metabolismo e excreção (ADME), priorizando os acertos de campanhas de triagem de alta produtividade e enriquecimento dos resultados do acoplamento de alto rendimento\n",
    "\n",
    "\n",
    "* **Vantagens**\n",
    "    * Fácil implementação\n",
    "    * Consegue trabalhar com dados categóricos e continuos\n",
    "    * É performático e pode ser usado em real time\n",
    "    * Não necessita de um conjunto de dados de treinamento tão grande comparado a outros modelos\n",
    "    * Não é sensível a features irrelevantes\n",
    "    * Retorna o grau de certeza da resposta\n",
    "\n",
    "\n",
    "* **Desvantagens**\n",
    "    * Devido ele não identificar a interação dos dados, sua dependência, pode ocorrer falsos positivos\n",
    "    * Quando tratamos com frases existe o problema dele separar cada palavra e há perda de sentido como Chicago Bulls, sendo um time de basquete e o algorítimo interpresta *Chicago* como cidade e Bulls como Touro "
   ]
  },
  {
   "cell_type": "markdown",
   "metadata": {},
   "source": [
    "## Referências\n",
    "\n",
    "Anthony E. Klon, et al 2006. [Improved Naive Bayesian Modeling of Numerical Data for Absorption, Distribution, Metabolism and Excretion (ADME) Property Prediction](https://pubs.acs.org/doi/pdf/10.1021/ci0601315)\n",
    "\n",
    "Castle, Nikki. 2017. [Supervised vs. Unsupervised Machine Learning](https://www.datascience.com/blog/supervised-and-unsupervised-machine-learning-algorithms)\n",
    "\n",
    "Chen, Edwin. [Choosing a Machine Learning Classifier](http://blog.echen.me/2011/04/27/choosing-a-machine-learning-classifier/)\n",
    "\n",
    "Pattekari,Shadab Adam & Parveen, Asma. 2012. [PREDICTION SYSTEM FOR HEART DISEASE USING NAIVE BAYES](https://pdfs.semanticscholar.org/d32e/e90a5de89093a4fc95f43e0409cb91414726.pdf)\n",
    "\n",
    "Portella, Letícia.2018. [Machine Learning Models - My Cheat List](https://leportella.com/cheatlist/2018/05/20/models-cheat-list.html)\n",
    "\n",
    "Simplilean. 2018. [Naive Bayes Classifier](https://www.slideshare.net/Simplilearn/naive-bayes-classifier-naive-bayes-algorithm-naive-bayes-classifier-with-example-simplilearn)\n",
    "\n",
    "[Sklearn documentation on Naive Bayes](http://scikit-learn.org/stable/modules/naive_bayes.html) \n",
    "\n",
    "[What is the difference between the the Gaussian, Bernoulli, Multinomial and the regular Naive Bayes algorithms?](https://www.quora.com/What-is-the-difference-between-the-the-Gaussian-Bernoulli-Multinomial-and-the-regular-Naive-Bayes-algorithms)"
   ]
  }
 ],
 "metadata": {
  "kernelspec": {
   "display_name": "Python 3",
   "language": "python",
   "name": "python3"
  },
  "language_info": {
   "codemirror_mode": {
    "name": "ipython",
    "version": 3
   },
   "file_extension": ".py",
   "mimetype": "text/x-python",
   "name": "python",
   "nbconvert_exporter": "python",
   "pygments_lexer": "ipython3",
   "version": "3.6.5"
  }
 },
 "nbformat": 4,
 "nbformat_minor": 2
}
