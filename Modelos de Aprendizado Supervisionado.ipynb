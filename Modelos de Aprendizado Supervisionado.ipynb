{
 "cells": [
  {
   "cell_type": "markdown",
   "metadata": {},
   "source": [
    "## Um resumo sobre Modelos de Aprendizado Supervisionado"
   ]
  },
  {
   "cell_type": "markdown",
   "metadata": {},
   "source": [
    "Aprendizado supervisionado é uma das tarefas de Machine Learninig que baseados em dados históricos, com entradas e saídas desejadas, o algoritimo é treinado para conseguir mapear novos resultados.¹\n",
    "\n",
    "A seguir está um breve estudo sobre os alguns destes modelos, sugeridos do Nanodegree in Machine Learning Engineer da Udacity."
   ]
  },
  {
   "cell_type": "markdown",
   "metadata": {},
   "source": [
    "### Gaussian Naive Bayes (GaussianNB)\n",
    "\n",
    "#### O que é?\n",
    "É um aprendizado supervisionado com base em um dado histórico, é feito um treinamento do algorítmo, divindo seu dado histórico em teste e treinamento, que serve para prever com base em novos dados. O algoritmo torna-se evolutivo, aprendendo cada vez que há inserção de novos dados.Contudo, por ser ingênuo ele pode ter falsos positivos.\n",
    "\n",
    "**Teorema de Bayes**: probabilidade de um evento ocorrer condicionado por outro.\n",
    "*Exemplo*: Se x acontecer A probabilidade de B acontecer é XX%.\n",
    "\n",
    "**Naive**: entende que todas as ocorrências são independentes, o que pode gerar falsos positivos.\n",
    "\n",
    "\n",
    "\n",
    "* **Onde pode ser usado?**\n",
    "    * Filtro de SPAM ⁴\n",
    "    * Análise de Sentimento ⁴\n",
    "    * Análise de perfil: em uma análise de perfil de emprestímo,  verifica se um usuário é um bom pagador, se paga assiduamente, entre outras variáveis, para concluir se é rentável o emprestímo para tal usuário ⁴\n",
    "    * Mineração de dados: Base com vários textos para identificar estilo literário ou autor, baseado no histórico, como estrutura do texto, linguagem, palavras usadas ⁴ \n",
    "\n",
    "\n",
    "* **Vantagens**\n",
    "    * Fácil implementação ²\n",
    "    * Consegue trabalhar com dados categóricos e continuos ⁴\n",
    "    * É performático e pode ser usado em real time ⁴\n",
    "    * Não necessita de um conjunto de dados de treinamento tão grande comparado a outros modelos ²\n",
    "    * Não é sensível a features irrelevantes ³\n",
    "    * Retorna o grau de certeza da resposta ³\n",
    "\n",
    "\n",
    "* **Desvantagens**\n",
    "    * Devido ele não identificar a interação dos dados, sua dependência, pode ocorrer falsos positivos.  ²\n",
    "    * Quando tratamos com frases existe o problema dele separar cada palavra e perde o sentido como Chicago Bulls ⁴    \n"
   ]
  },
  {
   "cell_type": "markdown",
   "metadata": {},
   "source": [
    "## Referências\n",
    "\n",
    "Barnett, V. 1978. The study of Outliers: purpose and model. Appl. Statics, 27, no.3, pp.242-250.\n",
    "\n",
    "¹ Castle, Nikki. 2017. [Supervised vs. Unsupervised Machine Learning](https://www.datascience.com/blog/supervised-and-unsupervised-machine-learning-algorithms)\n",
    "\n",
    "² Chen, Edwin. [Choosing a Machine Learning Classifier](http://blog.echen.me/2011/04/27/choosing-a-machine-learning-classifier/)\n",
    "\n",
    "³ Portella, Letícia.2018. [Machine Learning Models - My Cheat List](https://leportella.com/cheatlist/2018/05/20/models-cheat-list.html)\n",
    "\n",
    "⁴ Simplilean. 2018. [Nayve BAyes Classifier](https://www.slideshare.net/Simplilearn/naive-bayes-classifier-naive-bayes-algorithm-naive-bayes-classifier-with-example-simplilearn)\n",
    "\n",
    "\n",
    "⁰\t¹\t²\t³\t⁴\t⁵\t⁶\t⁷\t⁸\t⁹"
   ]
  }
 ],
 "metadata": {
  "kernelspec": {
   "display_name": "Python 3",
   "language": "python",
   "name": "python3"
  },
  "language_info": {
   "codemirror_mode": {
    "name": "ipython",
    "version": 3
   },
   "file_extension": ".py",
   "mimetype": "text/x-python",
   "name": "python",
   "nbconvert_exporter": "python",
   "pygments_lexer": "ipython3",
   "version": "3.6.5"
  }
 },
 "nbformat": 4,
 "nbformat_minor": 2
}
